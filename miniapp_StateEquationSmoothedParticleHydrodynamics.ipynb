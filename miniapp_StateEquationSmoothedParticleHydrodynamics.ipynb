{
  "nbformat": 4,
  "nbformat_minor": 0,
  "metadata": {
    "colab": {
      "provenance": [],
      "authorship_tag": "ABX9TyNLR2iLgjK0KP1Tvk2Z/JZ/",
      "include_colab_link": true
    },
    "kernelspec": {
      "name": "python3",
      "display_name": "Python 3"
    },
    "language_info": {
      "name": "python"
    },
    "widgets": {
      "application/vnd.jupyter.widget-state+json": {
        "dcd11b977924471fa071fdfdc4a466ef": {
          "model_module": "@jupyter-widgets/controls",
          "model_name": "HBoxModel",
          "model_module_version": "1.5.0",
          "state": {
            "_dom_classes": [],
            "_model_module": "@jupyter-widgets/controls",
            "_model_module_version": "1.5.0",
            "_model_name": "HBoxModel",
            "_view_count": null,
            "_view_module": "@jupyter-widgets/controls",
            "_view_module_version": "1.5.0",
            "_view_name": "HBoxView",
            "box_style": "",
            "children": [
              "IPY_MODEL_dc1ce387cf4847b0b2170c27542a5bc6",
              "IPY_MODEL_e313d076714244f88e8d77bd2b6272aa",
              "IPY_MODEL_18fa89c7cbe24daa92c3217b335f36f0"
            ],
            "layout": "IPY_MODEL_2de82dfd32384614bc241bec6c0833a0"
          }
        },
        "dc1ce387cf4847b0b2170c27542a5bc6": {
          "model_module": "@jupyter-widgets/controls",
          "model_name": "HTMLModel",
          "model_module_version": "1.5.0",
          "state": {
            "_dom_classes": [],
            "_model_module": "@jupyter-widgets/controls",
            "_model_module_version": "1.5.0",
            "_model_name": "HTMLModel",
            "_view_count": null,
            "_view_module": "@jupyter-widgets/controls",
            "_view_module_version": "1.5.0",
            "_view_name": "HTMLView",
            "description": "",
            "description_tooltip": null,
            "layout": "IPY_MODEL_7a9ee69c440f49a39943d9f4171b3100",
            "placeholder": "​",
            "style": "IPY_MODEL_7a7f8cb49ceb48a49b7bc50a69df612c",
            "value": "time step: 100%"
          }
        },
        "e313d076714244f88e8d77bd2b6272aa": {
          "model_module": "@jupyter-widgets/controls",
          "model_name": "FloatProgressModel",
          "model_module_version": "1.5.0",
          "state": {
            "_dom_classes": [],
            "_model_module": "@jupyter-widgets/controls",
            "_model_module_version": "1.5.0",
            "_model_name": "FloatProgressModel",
            "_view_count": null,
            "_view_module": "@jupyter-widgets/controls",
            "_view_module_version": "1.5.0",
            "_view_name": "ProgressView",
            "bar_style": "",
            "description": "",
            "description_tooltip": null,
            "layout": "IPY_MODEL_565284ad89254c1db13d64311b752310",
            "max": 1000,
            "min": 0,
            "orientation": "horizontal",
            "style": "IPY_MODEL_21068c4158fc493f86547a77c9e39793",
            "value": 999
          }
        },
        "18fa89c7cbe24daa92c3217b335f36f0": {
          "model_module": "@jupyter-widgets/controls",
          "model_name": "HTMLModel",
          "model_module_version": "1.5.0",
          "state": {
            "_dom_classes": [],
            "_model_module": "@jupyter-widgets/controls",
            "_model_module_version": "1.5.0",
            "_model_name": "HTMLModel",
            "_view_count": null,
            "_view_module": "@jupyter-widgets/controls",
            "_view_module_version": "1.5.0",
            "_view_name": "HTMLView",
            "description": "",
            "description_tooltip": null,
            "layout": "IPY_MODEL_8841703b30e3471683943dba01290848",
            "placeholder": "​",
            "style": "IPY_MODEL_a86b80f966f6405abcd54e3a8ed06c7f",
            "value": " 999/1000 [01:59&lt;00:00,  5.72it/s]"
          }
        },
        "2de82dfd32384614bc241bec6c0833a0": {
          "model_module": "@jupyter-widgets/base",
          "model_name": "LayoutModel",
          "model_module_version": "1.2.0",
          "state": {
            "_model_module": "@jupyter-widgets/base",
            "_model_module_version": "1.2.0",
            "_model_name": "LayoutModel",
            "_view_count": null,
            "_view_module": "@jupyter-widgets/base",
            "_view_module_version": "1.2.0",
            "_view_name": "LayoutView",
            "align_content": null,
            "align_items": null,
            "align_self": null,
            "border": null,
            "bottom": null,
            "display": null,
            "flex": null,
            "flex_flow": null,
            "grid_area": null,
            "grid_auto_columns": null,
            "grid_auto_flow": null,
            "grid_auto_rows": null,
            "grid_column": null,
            "grid_gap": null,
            "grid_row": null,
            "grid_template_areas": null,
            "grid_template_columns": null,
            "grid_template_rows": null,
            "height": null,
            "justify_content": null,
            "justify_items": null,
            "left": null,
            "margin": null,
            "max_height": null,
            "max_width": null,
            "min_height": null,
            "min_width": null,
            "object_fit": null,
            "object_position": null,
            "order": null,
            "overflow": null,
            "overflow_x": null,
            "overflow_y": null,
            "padding": null,
            "right": null,
            "top": null,
            "visibility": null,
            "width": null
          }
        },
        "7a9ee69c440f49a39943d9f4171b3100": {
          "model_module": "@jupyter-widgets/base",
          "model_name": "LayoutModel",
          "model_module_version": "1.2.0",
          "state": {
            "_model_module": "@jupyter-widgets/base",
            "_model_module_version": "1.2.0",
            "_model_name": "LayoutModel",
            "_view_count": null,
            "_view_module": "@jupyter-widgets/base",
            "_view_module_version": "1.2.0",
            "_view_name": "LayoutView",
            "align_content": null,
            "align_items": null,
            "align_self": null,
            "border": null,
            "bottom": null,
            "display": null,
            "flex": null,
            "flex_flow": null,
            "grid_area": null,
            "grid_auto_columns": null,
            "grid_auto_flow": null,
            "grid_auto_rows": null,
            "grid_column": null,
            "grid_gap": null,
            "grid_row": null,
            "grid_template_areas": null,
            "grid_template_columns": null,
            "grid_template_rows": null,
            "height": null,
            "justify_content": null,
            "justify_items": null,
            "left": null,
            "margin": null,
            "max_height": null,
            "max_width": null,
            "min_height": null,
            "min_width": null,
            "object_fit": null,
            "object_position": null,
            "order": null,
            "overflow": null,
            "overflow_x": null,
            "overflow_y": null,
            "padding": null,
            "right": null,
            "top": null,
            "visibility": null,
            "width": null
          }
        },
        "7a7f8cb49ceb48a49b7bc50a69df612c": {
          "model_module": "@jupyter-widgets/controls",
          "model_name": "DescriptionStyleModel",
          "model_module_version": "1.5.0",
          "state": {
            "_model_module": "@jupyter-widgets/controls",
            "_model_module_version": "1.5.0",
            "_model_name": "DescriptionStyleModel",
            "_view_count": null,
            "_view_module": "@jupyter-widgets/base",
            "_view_module_version": "1.2.0",
            "_view_name": "StyleView",
            "description_width": ""
          }
        },
        "565284ad89254c1db13d64311b752310": {
          "model_module": "@jupyter-widgets/base",
          "model_name": "LayoutModel",
          "model_module_version": "1.2.0",
          "state": {
            "_model_module": "@jupyter-widgets/base",
            "_model_module_version": "1.2.0",
            "_model_name": "LayoutModel",
            "_view_count": null,
            "_view_module": "@jupyter-widgets/base",
            "_view_module_version": "1.2.0",
            "_view_name": "LayoutView",
            "align_content": null,
            "align_items": null,
            "align_self": null,
            "border": null,
            "bottom": null,
            "display": null,
            "flex": null,
            "flex_flow": null,
            "grid_area": null,
            "grid_auto_columns": null,
            "grid_auto_flow": null,
            "grid_auto_rows": null,
            "grid_column": null,
            "grid_gap": null,
            "grid_row": null,
            "grid_template_areas": null,
            "grid_template_columns": null,
            "grid_template_rows": null,
            "height": null,
            "justify_content": null,
            "justify_items": null,
            "left": null,
            "margin": null,
            "max_height": null,
            "max_width": null,
            "min_height": null,
            "min_width": null,
            "object_fit": null,
            "object_position": null,
            "order": null,
            "overflow": null,
            "overflow_x": null,
            "overflow_y": null,
            "padding": null,
            "right": null,
            "top": null,
            "visibility": null,
            "width": null
          }
        },
        "21068c4158fc493f86547a77c9e39793": {
          "model_module": "@jupyter-widgets/controls",
          "model_name": "ProgressStyleModel",
          "model_module_version": "1.5.0",
          "state": {
            "_model_module": "@jupyter-widgets/controls",
            "_model_module_version": "1.5.0",
            "_model_name": "ProgressStyleModel",
            "_view_count": null,
            "_view_module": "@jupyter-widgets/base",
            "_view_module_version": "1.2.0",
            "_view_name": "StyleView",
            "bar_color": null,
            "description_width": ""
          }
        },
        "8841703b30e3471683943dba01290848": {
          "model_module": "@jupyter-widgets/base",
          "model_name": "LayoutModel",
          "model_module_version": "1.2.0",
          "state": {
            "_model_module": "@jupyter-widgets/base",
            "_model_module_version": "1.2.0",
            "_model_name": "LayoutModel",
            "_view_count": null,
            "_view_module": "@jupyter-widgets/base",
            "_view_module_version": "1.2.0",
            "_view_name": "LayoutView",
            "align_content": null,
            "align_items": null,
            "align_self": null,
            "border": null,
            "bottom": null,
            "display": null,
            "flex": null,
            "flex_flow": null,
            "grid_area": null,
            "grid_auto_columns": null,
            "grid_auto_flow": null,
            "grid_auto_rows": null,
            "grid_column": null,
            "grid_gap": null,
            "grid_row": null,
            "grid_template_areas": null,
            "grid_template_columns": null,
            "grid_template_rows": null,
            "height": null,
            "justify_content": null,
            "justify_items": null,
            "left": null,
            "margin": null,
            "max_height": null,
            "max_width": null,
            "min_height": null,
            "min_width": null,
            "object_fit": null,
            "object_position": null,
            "order": null,
            "overflow": null,
            "overflow_x": null,
            "overflow_y": null,
            "padding": null,
            "right": null,
            "top": null,
            "visibility": null,
            "width": null
          }
        },
        "a86b80f966f6405abcd54e3a8ed06c7f": {
          "model_module": "@jupyter-widgets/controls",
          "model_name": "DescriptionStyleModel",
          "model_module_version": "1.5.0",
          "state": {
            "_model_module": "@jupyter-widgets/controls",
            "_model_module_version": "1.5.0",
            "_model_name": "DescriptionStyleModel",
            "_view_count": null,
            "_view_module": "@jupyter-widgets/base",
            "_view_module_version": "1.2.0",
            "_view_name": "StyleView",
            "description_width": ""
          }
        }
      }
    }
  },
  "cells": [
    {
      "cell_type": "markdown",
      "metadata": {
        "id": "view-in-github",
        "colab_type": "text"
      },
      "source": [
        "<a href=\"https://colab.research.google.com/github/shashwotpaudel/OpenSeesPyDoc/blob/master/miniapp_StateEquationSmoothedParticleHydrodynamics.ipynb\" target=\"_parent\"><img src=\"https://colab.research.google.com/assets/colab-badge.svg\" alt=\"Open In Colab\"/></a>"
      ]
    },
    {
      "cell_type": "markdown",
      "source": [
        "The goal of this miniapp is purely to demonstrate the use and potential of smoothed particle hydrodynamics in fluid flows as a form of meshless method for solving a PDE. We will use an example problem of dam break to illustrate that."
      ],
      "metadata": {
        "id": "4CHbhIOqubuI"
      }
    },
    {
      "cell_type": "code",
      "source": [
        "\"\"\"Import all libraries\"\"\"\n",
        "import numpy as np\n",
        "# import os\n",
        "import matplotlib.pyplot as plt\n",
        "from matplotlib.animation import FuncAnimation, FFMpegWriter\n",
        "from tqdm.notebook import trange, tqdm\n",
        "from IPython.display import HTML\n",
        "\n",
        "# %matplotlib inline"
      ],
      "metadata": {
        "id": "PH6QRdkZLSbQ"
      },
      "execution_count": 66,
      "outputs": []
    },
    {
      "cell_type": "markdown",
      "source": [
        "**Navier Stokes equations** \\\\\n",
        "*Conservation of momentum*\n",
        "$$    \\rho (\\frac{\\partial {\\mathbf{u}}}{\\partial t} + \\mathbf{u} \\cdot \\nabla \\mathbf{u}) = \\rho \\frac{D\\mathbf{u}}{Dt}=- \\nabla p + \\nabla \\cdot (\\mu \\nabla^S \\mathbf{u}) + \\rho \\mathbf{g} + \\rho \\mathbf{f}$$\n",
        "\n",
        "*Incompressibility constraint/ Continuity*\n",
        "$$\\frac{D \\rho}{Dt} = 0 \\Leftrightarrow \\nabla \\cdot \\mathbf{u} = 0$$\n",
        "where $\\mathbf{u}$ is the velocity field, $\\rho$ is the fluid density, $p$ is the pressure, $\\mu$ is the dynamic viscosity, $\\mathbf{g}$ is the acceleration due to gravity and $\\mathbf{f}$ is additional body forces.\n",
        "But we treat the SPH as a weakly compressible system with minimal density variations, the continuity equation is rewritten as:\n",
        "$$\\frac{D\\rho}{Dt}= - \\rho \\nabla \\cdot \\mathbf{u}$$\n",
        "The difference in between the Lagrangian and Eulerian derivatives on the left hand side of both of these equations must be carefully noted. The advection term $\\mathbf{u} \\cdot \\nabla \\mathbf{u}$ disappears in terms of Lagrangian derivative $\\frac{D\\mathbf{u}}{Dt}$. Thus, it becomes very easy for the momentum conservation law to be directly interpreted as Newton's second law of the form $\\mathbf{F}= m \\frac{D\\mathbf{u}}{Dt}$.\n",
        "\n"
      ],
      "metadata": {
        "id": "eIhqTFa1PUdX"
      }
    },
    {
      "cell_type": "markdown",
      "source": [
        "\n",
        "**Smoothed Particle Hydrodynamics (SPH) for 2D Navier Stokes** \\\\\n",
        "SPH, first introduced in [[1]](https://doi.org/10.1093/mnras/181.3.375) is a meshfree Lagrangian method (particle perspective), where the fluid domain is discretized into a number of \"fluid\" particles. It is especially good with simulating free-surface flows and complex boundary dynamics. However, handling different kinds of boundary conditions is more complicated with this method as the particles near the boundary do not necessarily conform to the geometry of the \"container\". \\\\\n",
        "In this notebook, we attempt to simulate a **dam-break problem in 2D** using the most fundamental SPH technique that is not necessarily the most elegant or optimized. More on this later! \\\\\n",
        "The discretization of the fluid domain is in terms of particles. The fluid field properties and their derivatives are reconstructed using the particles' position and properties alone. A fixed region of influence is set around each particle where a kernel function acts and provides weights to the properties. Finally, the particle properties are evolved through time based on the given PDE [[2]](https://dl.acm.org/doi/fullHtml/10.1145/3460773). \\\\\n",
        "We consider a general smoothing function $W(\\mathbf{r},h)$ for a continuous approximation to any quantity $A(\\mathbf{x})$ as:\n",
        "$$A(\\mathbf{x}) = ∫A(\\mathbf{x'})W(\\mathbf{r},h)dv'$$ where $h$ denotes the kernel's smoothing length. [Koschier, Bender, Solenthaler] also describe a certain set of properties that neeed to be met by these kernel functions which are not discussed here. The SPH discretization further involves replacing of the above continuous integral by a sum over discrete sampling points such that:\n",
        "$$A(\\mathbf{x}_i)= \\sum_j \\frac{m_j}{\\rho_j} A(\\mathbf{x}_j)W(\\mathbf{r}_{ij} = \\mathbf{x}_i - \\mathbf{x}_j, h)$$\n",
        "We can replace $A$ with properties like $\\rho$, $\\nabla p$, $\\nabla^2 \\mathbf{u}$ and such. Note that we would need to calculate the gradient $\\nabla W$ and laplacian $\\nabla^2 W$ of the kernel functions for computing $\\nabla p$ and $\\nabla^2 \\mathbf{u}$ respectively. \\\\\n",
        "A typical choice for the smoothing kernel function used in SPH is the cubic spline kernel [[3]](https://doi.org/10.2312/egt.20191035) which is shown below.\n",
        "\n"
      ],
      "metadata": {
        "id": "RdAw2ac7Th5h"
      }
    },
    {
      "cell_type": "markdown",
      "source": [
        "**Kernel Functions** \\\\\n",
        "\n",
        "In 2D, the cubic spline kernel function we use is:\n",
        "$$W(\\mathbf{r},h) = \\sigma \\begin{cases} 6(q^3 - q^2) + 1 && \\text{for}  ~ 0\\leq q\\leq\\frac{1}{2} \\\\2(1-q)^3 && \\text{for} ~ \\frac{1}{2} \\lt q \\leq 1 \\\\0 && \\text{otherwise} \\end{cases}$$\n",
        "where $q=||\\mathbf{r}||/h$ and $\\sigma = \\frac{40}{7 \\pi h^2}$ for 2D. The kernel is $C^2$-continuous. \\\\\n",
        "The gradient of the cubic spline kernel:\n",
        "$$\\nabla W(\\mathbf{r},h) = \\frac{\\sigma}{h} \\begin{cases} 3q^2 - 2q && \\text{for}  ~ 0\\leq q\\leq\\frac{1}{2} \\\\-6(1-q)^2 && \\text{for} ~ \\frac{1}{2} \\lt q \\leq 1 \\\\0 && \\text{otherwise} \\end{cases}$$\n",
        "The laplacian of the cubic spline kernel:\n",
        "$$\\nabla^2 W(\\mathbf{r},h) = \\frac{\\sigma}{h^2} \\begin{cases} 6q - 2 && \\text{for}  ~ 0\\leq q\\leq\\frac{1}{2} \\\\12(1-q) && \\text{for} ~ \\frac{1}{2} \\lt q \\leq 1 \\\\0 && \\text{otherwise} \\end{cases}$$\n",
        "\n",
        "There might be several other choices for the kernel functions which will not be discussed here."
      ],
      "metadata": {
        "id": "FHFaK_1RLZ0M"
      }
    },
    {
      "cell_type": "code",
      "source": [
        "def cubic_spline_kernel(r, h):\n",
        "    q = r / h\n",
        "    sigma = 40 / (7 * np.pi * h**2)\n",
        "    return np.where(q <= 0.5, sigma * (6 * (q**3 - q**2) + 1), np.where((q > 0.5) & (q <= 1),sigma * 2 * (1 - q)**3, 0))\n",
        "\n",
        "def grad_cubic_spline_kernel(r, h):\n",
        "    q = r / h\n",
        "    sigma = 40 / (7 * np.pi * h**2)\n",
        "    return np.where(q <= 0.5, sigma * (3 * q**2 - 2 * q) / h, np.where((q > 0.5) & (q <= 1), -sigma * 6 * (1 - q)**2 / h, 0))\n",
        "\n",
        "def laplacian_cubic_spline_kernel(r, h):\n",
        "    q = r / h\n",
        "    sigma = 40 / (7 * np.pi * h**2)\n",
        "    return np.where(q <= 0.5, sigma * (6 * q - 2) / h**2, np.where((q > 0.5) & (q <= 1), sigma * 12 * (1 - q) / h**2, 0))"
      ],
      "metadata": {
        "id": "4qDQS3udLKVY"
      },
      "execution_count": 67,
      "outputs": []
    },
    {
      "cell_type": "markdown",
      "source": [
        "Some other kernel functions to try:"
      ],
      "metadata": {
        "id": "EqYtI6cUPNMn"
      }
    },
    {
      "cell_type": "code",
      "source": [
        "# Add other kernel functions here as needed"
      ],
      "metadata": {
        "id": "uwsyq2e2PQaU"
      },
      "execution_count": 68,
      "outputs": []
    },
    {
      "cell_type": "markdown",
      "source": [
        "**Specify which kernel to use** \\\\\n",
        "Only needed if you want to add more kernel functions to test the code. Right now, only the cubic spline kernels are supported."
      ],
      "metadata": {
        "id": "PjJGc60oO-5F"
      }
    },
    {
      "cell_type": "code",
      "source": [
        "kernel = cubic_spline_kernel\n",
        "grad_kernel = grad_cubic_spline_kernel\n",
        "laplacian_kernel = laplacian_cubic_spline_kernel"
      ],
      "metadata": {
        "id": "vjdOIBBpLHLe"
      },
      "execution_count": 69,
      "outputs": []
    },
    {
      "cell_type": "markdown",
      "source": [
        "**Incompressibility** \\\\\n",
        "\n",
        "The density of a particle $i$ is calculated directly using the kernel function $W$  such that $$\\rho_i = \\sum_j m_j W_{ij}$$\n",
        "where $m_j$ is the mass of fluid particle $j$. \\\\\n",
        "This method we employ is called explicit volume deviation which means that we explicitly calculate the fluid particle volume changes based on the densities of particles with respect to their relative positions from other particles. Although simple to use, it can result in fluid volume oscillations **(which this code suffers from)** due to over-correction of the pressure acceleration. \\\\\n",
        "We can also use the time derivative of $\\rho$ in the continuity equation to predict the particle density based on its previous density using a time integration scheme. This technique introduces volume drift and a volume loss can be observed. This technique does help with minimizing density deviations between time steps, but chances are the potentially existing density deviations are not detected. Since we do not include this technique in the code yet, this method is not elaborated further.  \\\\\n",
        "For this code, a choice was made to use the explicit volume deviation to compute density deviation and hence pressure calculations discussed below.\n",
        "\n",
        "**State Equation SPH** \\\\\n",
        "The pressure is calculated based on Tait's equation of state.\n",
        "$$p = \\frac{K}{\\gamma} \\big[ \\big(\\frac{\\rho}{\\rho_0}\\big)^{\\gamma} -1 \\big]$$\n",
        "where $\\rho_0$ is reference fluid density, $\\rho$ is density at particle point. $K$ is equivalent to bulk modulus that governs the compressibility of the fluid. Higher $K$ means closer to incompressibility but requires smaller time steps but provides a better approximation to the density deviation which ultimately defines pressure. Lower $K$ means greater error in calculation of density deviation, which creates unrealistic physics and is undesirable. For water, $\\gamma = 7$ is usually chosen [[6]](https://doi.org/10.1006/jcph.1994.1034). We also need to clamp the pressure values such that only non-negative pressure values exist for all particles. Negative pressure values imply existence of cavitations or surface tension forces which we do not include in this code.  \n",
        "$$p_i = max(p_i,0)$$\n",
        "SPH simulations using a state equation as described by Tait to compute pressure are often referred to as compressible or weakly compressible SPH systems. This work aligns with that theory as well. It is challenging to minimize compression using such state equations but they are easy to employ in code. Furthermore, for incompressibility, a Pressure Poisson Equation (PPE) needs to be solved which we do not include in this code."
      ],
      "metadata": {
        "id": "rCBIgyjEvMFg"
      }
    },
    {
      "cell_type": "markdown",
      "source": [
        "**Pressure Forces** \\\\\n",
        "We use the symmetric formula for gradient of kernel function which is derived in [[7]](https://ui.adsabs.harvard.edu/link_gateway/2012JCoPh.231..759P/doi:10.1016/j.jcp.2010.12.011).\n",
        "\n",
        "$$\\mathbf{f}_i^{pressure} = -\\frac{\\nabla p_i}{\\rho_i} = -\\sum_j m_j \\bigg( \\frac{p_i}{\\rho_i ^2} + \\frac{p_j}{\\rho_j ^2} + Π_{ij} \\bigg) \\nabla W_{ij}$$\n",
        "where $Π_{ij}$ is the artifical damping term.\n",
        "$$Π_{ij} = \\begin{cases} - \\nu \\bigg(\\frac{u_{ij} \\cdot r_{ij}}{r_{ij}^2 + 0.01 h^2} \\bigg) && \\text{if } \\mathbf{u}_{ij} \\cdot \\mathbf{r}_{ij} < 0 \\\\0 && \\text{otherwise} \\end{cases}$$\n",
        "where $\\nu = \\mu/\\rho_i$ is the kinematic viscosity, $u_{ij}$ = $u_i-u_j$ and $r_{ij}=x_i - x_j$, $h$ is the smoothing length. \\\\\n",
        "**Viscous Forces**\n",
        "$$\\mathbf{f}_i^{viscous} = \\nu  \\nabla^2 \\mathbf{u}= \\sum_j \\nu m_j \\bigg( \\frac{u_j - u_i}{\\rho_j} \\bigg) \\nabla^2 W_{ij}$$\n",
        "These forces need not be included if the artificial viscosity mentioned above is incorporated in the pressure forces and vice versa."
      ],
      "metadata": {
        "id": "g0Mz7ZdcYEVY"
      }
    },
    {
      "cell_type": "markdown",
      "source": [
        "The total force density ($F/ \\rho$) or acceleration acting on any particle $i$ is then calculated as:\n",
        "$$f_i = f_i^{pressure} + f_i^{viscous} + \\text{ any other external forces like gravity}$$\n",
        "Then, we solve for the velocity using a time integration scheme discussed below:"
      ],
      "metadata": {
        "id": "Pzm3B9aqi7Yw"
      }
    },
    {
      "cell_type": "markdown",
      "source": [
        "**Time Stepping**\n",
        "This notebook supports 3 different time integration schemes, all of which are explicit, but with varying orders of accuracy. \\\\\n",
        "\n",
        "This section describes the three time integration methods implemented in the Smoothed Particle Hydrodynamics (SPH) simulations, each with different orders of accuracy and stability characteristics.\n",
        "\n",
        "1. Forward Euler Time Integration\n",
        "\n",
        "The Forward Euler method is a first-order accurate scheme \\(O(\\Delta t)\\). It is an explicit method that updates the positions and velocities using the current acceleration.\n",
        "\n",
        "\\begin{align*}\n",
        "u_i^{n+1} &= u_i^n + \\Delta t \\cdot f_i, \\\\\n",
        "x_i^{n+1} &= x_i^n + \\Delta t \\cdot u_i^{n+1},\n",
        "\\end{align*}\n",
        "\n",
        "where $\\ u_i $ and $ x_i$ are the velocity and position of the particle, $ f_i $ is the force per unit mass (acceleration), and $\\Delta t$ is the time step.\n",
        "\n",
        "2. Velocity Verlet Time Integration\n",
        "\n",
        "The Velocity Verlet method is a second-order accurate scheme $O(\\Delta t^2)$ that provides a good balance between computational efficiency and numerical stability. It calculates positions and velocities in a way that considers both the current and the new velocities within the same timestep:\n",
        "\n",
        "\\begin{align*}\n",
        "u_i^{n+\\frac{1}{2}} &= u_i^n + \\frac{1}{2} \\Delta t \\cdot f_i^n, \\\\\n",
        "x_i^{n+1} &= x_i^n + \\Delta t \\cdot u_i^{n+\\frac{1}{2}}, \\\\\n",
        "f_i^{n+1} &= f(x_i^{n+1}), \\\\\n",
        "u_i^{n+1} &= u_i^{n+\\frac{1}{2}} + \\frac{1}{2} \\Delta t \\cdot f_i^{n+1}.\n",
        "\\end{align*}\n",
        "\n",
        "This method updates the velocities in two half-steps and the positions in one full step, recalculating forces in between based on the updated positions.\n",
        "\n",
        "3. RK4 (Runge-Kutta 4th Order) Time Integration\n",
        "\n",
        "The RK4 method is a fourth-order accurate scheme $O(\\Delta t^4)$ and is known for its high accuracy and stability in solving ordinary differential equations. It calculates the position and velocity by taking the weighted average of four increments, where each increment is calculated at a different point in the interval:\n",
        "\n",
        "\\begin{align*}\n",
        "k1_v &= \\Delta t \\cdot f(x_i^n, u_i^n), \\\\\n",
        "k1_x &= \\Delta t \\cdot u_i^n, \\\\\n",
        "k2_v &= \\Delta t \\cdot f\\left(x_i^n + \\frac{1}{2} k1_x, u_i^n + \\frac{1}{2} k1_v\\right), \\\\\n",
        "k2_x &= \\Delta t \\cdot (u_i^n + \\frac{1}{2} k1_v), \\\\\n",
        "k3_v &= \\Delta t \\cdot f\\left(x_i^n + \\frac{1}{2} k2_x, u_i^n + \\frac{1}{2} k2_v\\right), \\\\\n",
        "k3_x &= \\Delta t \\cdot (u_i^n + \\frac{1}{2} k2_v), \\\\\n",
        "k4_v &= \\Delta t \\cdot f(x_i^n + k3_x, u_i^n + k3_v), \\\\\n",
        "k4_x &= \\Delta t \\cdot (u_i^n + k3_v), \\\\\n",
        "u_i^{n+1} &= u_i^n + \\frac{1}{6}(k1_v + 2k2_v + 2k3_v + k4_v), \\\\\n",
        "x_i^{n+1} &= x_i^n + \\frac{1}{6}(k1_x + 2k2_x + 2k3_x + k4_x).\n",
        "\\end{align*}\n",
        "\n",
        "This method requires four evaluations of the derivative per timestep but offers higher accuracy and stability. We currently employ the RK4 scheme in this code, but I have my doubts regarding the additional benefits, especially in my case where the time step is already too small.\n"
      ],
      "metadata": {
        "id": "UF2I8vgdiZO8"
      }
    },
    {
      "cell_type": "markdown",
      "source": [
        "**Time Step**\n",
        "In SPH simulations, time step is a critical factor in determining the stability of the system. Depending on the compressibility constant or bulk modulus $K$, and the maximum affordable time step can be controlled using a CFL condition.$$\\text{CFL} =  \\mathbf{u} * \\frac{\\Delta t}{\\Delta x} \\leq \\text{CFL}_{max}$$\n",
        "where $Δx$ can be the amount of maximum allowable displacement (like the particle diameter) per time step and $\\mathbf{u}$ is the characteristic velocity of the domain. To be the most restrictive, the maximum velocity of the particle can be taken. $\\text{CFL}_{max}$ is the stability criterion taken as some value between $0$ and $1$. We have not implemented variable/adaptive time stepping based on CFL condition yet. \\\\\n",
        "For most of the demo cases, $1\\times 10^{-5}s$ was used, but for Colab time restrictions, the bulk modulus $K$ was reduced to reduce the maximum velocity in the domain, which allowed for larger time steps."
      ],
      "metadata": {
        "id": "RgLG4gLKpXxp"
      }
    },
    {
      "cell_type": "markdown",
      "source": [
        "**Treatment of boundary** \\\\\n",
        "In this work, we treat the boundary as reflective, and a damping coefficient is provided as input to decide the extent of inelastic loss. For now, we use a coefficient of $-1$ which corresponds to perfectly elastic reflection of particles back into the domain, but can be changed to any value between $0$ and $-1$ to provide some sort of damping on collision with wall. It would be more physical and realistic."
      ],
      "metadata": {
        "id": "dQdKkS9JD7c4"
      }
    },
    {
      "cell_type": "markdown",
      "source": [
        "**Define classes for SPH fluid domain particles and boundary particles**"
      ],
      "metadata": {
        "id": "gfxCC26WPC61"
      }
    },
    {
      "cell_type": "code",
      "source": [
        "# Define a particle class\n",
        "class SPHFluidDomain:\n",
        "    def __init__(self, N, mass, domain_size_x, domain_size_y):\n",
        "        self.x = np.zeros(N)  # X positions\n",
        "        self.y = np.zeros(N)  # Y positions\n",
        "        self.vx = np.zeros(N)  # X velocities\n",
        "        self.vy = np.zeros(N)  # Y velocities\n",
        "        self.rho = np.full(N, 1000.0)  # Density (initialized to density of water)\n",
        "        self.mu = 1e-3 * np.ones(N)  # Viscosity\n",
        "        self.P = np.zeros(N)  # Pressure\n",
        "        self.fx = np.zeros(N)  # X force densities\n",
        "        self.fy = np.zeros(N)   # Y force densities (gravity direction)\n",
        "        self.mass = np.full(N, mass)  # Particle mass\n",
        "        self.domain_size_x = domain_size_x\n",
        "        self.domain_size_y = domain_size_y\n",
        "        self.N = N\n",
        "\n",
        "    # 2D Dam break water column initialization\n",
        "    def initialize_positions(self, n_particles_x, n_particles_y, spacing):\n",
        "        assert n_particles_x * n_particles_y == self.N, \"Total number of particles does not match N\"\n",
        "        index = 0\n",
        "        for i in range(n_particles_x):\n",
        "            for j in range(n_particles_y):\n",
        "                self.x[index] = 2 * spacing + i * spacing\n",
        "                self.y[index] = 2 * spacing + j * spacing\n",
        "                index += 1\n",
        "\n",
        "\n",
        "    # Density and Pressure Estimation methods, uses State Equation SPH (SESPH)\n",
        "    def compute_density_and_pressure(self, h, K, rho0):\n",
        "        # Compute pairwise distances\n",
        "        # print(self.x.dtype)\n",
        "        dx = self.x[:, np.newaxis] - self.x\n",
        "        dy = self.y[:, np.newaxis] - self.y\n",
        "        r = np.sqrt(dx**2 + dy**2)\n",
        "\n",
        "        # Apply kernel function to all distances\n",
        "        weights = kernel(r, h)\n",
        "\n",
        "        # Compute density\n",
        "        self.rho = np.sum(weights * self.mass, axis=1)\n",
        "\n",
        "        # Check and adjust density variations\n",
        "        # rho_min = 0.7 * rho0\n",
        "        # rho_max = 10.0 * rho0\n",
        "        # self.rho = np.clip(self.rho, rho_min, rho_max)\n",
        "\n",
        "        # Compute pressure and clamp to 0 if negative (Tait's equation of state)\n",
        "        self.P = K / 7 * ((self.rho / rho0) ** 7 - 1)\n",
        "        self.P = np.maximum(self.P, 0)  # Ensure non-negative\n",
        "\n",
        "    # Three methods for time integration are implemented:\n",
        "    # 1. Forward Euler\n",
        "    # 2. Velocity Verlet\n",
        "    # 3. RK4\n",
        "\n",
        "    def update_fwd_euler(self, dt):\n",
        "        self.vx += self.fx * dt\n",
        "        self.vy += self.fy * dt\n",
        "        self.x  += self.vx * dt\n",
        "        self.y  += self.vy * dt\n",
        "\n",
        "    def update_velocity_verlet(self, h, dt):\n",
        "        # First half step for velocities\n",
        "        self.vx += 0.5 * self.fx * dt\n",
        "        self.vy += 0.5 * self.fy * dt\n",
        "        # Update positions\n",
        "        self.x += self.vx * dt\n",
        "        self.y += self.vy * dt\n",
        "        # Update forces and compute new accelerations\n",
        "        self.compute_force_density(h)\n",
        "        # self.apply_soft_boundary(damping,h)\n",
        "        # Second half step for velocities\n",
        "        self.vx += 0.5 * self.fx * dt\n",
        "        self.vy += 0.5 * self.fy * dt\n",
        "\n",
        "    def update_rk4(self, h,  dt):\n",
        "        # copy to new variables to use after step 4\n",
        "        initial_x = np.copy(self.x)\n",
        "        initial_y = np.copy(self.y)\n",
        "        initial_vx = np.copy(self.vx)\n",
        "        initial_vy = np.copy(self.vy)\n",
        "\n",
        "        # step 1\n",
        "        self.compute_force_density(h)\n",
        "        ax1, ay1 = self.fx, self.fy\n",
        "        k1_vx = dt * ax1\n",
        "        k1_vy = dt * ay1\n",
        "        k1_x = dt * initial_vx\n",
        "        k1_y = dt * initial_vy\n",
        "\n",
        "        # step 2\n",
        "        self.x = initial_x + 0.5 * k1_x\n",
        "        self.y = initial_y + 0.5 * k1_y\n",
        "        self.vx = initial_vx + 0.5 * k1_vx\n",
        "        self.vy = initial_vy + 0.5 * k1_vy\n",
        "        self.compute_force_density(h)\n",
        "        ax2, ay2 = self.fx, self.fy\n",
        "        k2_vx = dt * ax2\n",
        "        k2_vy = dt * ay2\n",
        "        k2_x = dt * (initial_vx + 0.5 * k1_vx)\n",
        "        k2_y = dt * (initial_vy + 0.5 * k1_vy)\n",
        "\n",
        "        # step 3\n",
        "        self.x = initial_x + 0.5 * k2_x\n",
        "        self.y = initial_y + 0.5 * k2_y\n",
        "        self.vx = initial_vx + 0.5 * k2_vx\n",
        "        self.vy = initial_vy + 0.5 * k2_vy\n",
        "        self.compute_force_density(h)\n",
        "        ax3, ay3 = self.fx, self.fy\n",
        "        k3_vx = dt * ax3\n",
        "        k3_vy = dt * ay3\n",
        "        k3_x = dt * (initial_vx + 0.5 * k2_vx)\n",
        "        k3_y = dt * (initial_vy + 0.5 * k2_vy)\n",
        "\n",
        "        # step 4\n",
        "        self.x = initial_x + k3_x\n",
        "        self.y = initial_y + k3_y\n",
        "        self.vx = initial_vx + k3_vx\n",
        "        self.vy = initial_vy + k3_vy\n",
        "        self.compute_force_density(h)\n",
        "        ax4, ay4 = self.fx, self.fy\n",
        "        k4_vx = dt * ax4\n",
        "        k4_vy = dt * ay4\n",
        "        k4_x = dt * (initial_vx + k3_vx)\n",
        "        k4_y = dt * (initial_vy + k3_vy)\n",
        "\n",
        "        # Combine steps to produce final estimate\n",
        "        self.x = initial_x + (k1_x + 2*k2_x + 2*k3_x + k4_x) / 6\n",
        "        self.y = initial_y + (k1_y + 2*k2_y + 2*k3_y + k4_y) / 6\n",
        "        self.vx = initial_vx + (k1_vx + 2*k2_vx + 2*k3_vx + k4_vx) / 6\n",
        "        self.vy = initial_vy + (k1_vy + 2*k2_vy + 2*k3_vy + k4_vy) / 6\n",
        "\n",
        "    # Compute force densities/ accelerations, includes:\n",
        "    # 1. Pressure Forces\n",
        "    # 2. Viscous Forces\n",
        "    # 3. Gravity Forces\n",
        "\n",
        "    def compute_force_density(self, h):\n",
        "        # Compute pairwise distances\n",
        "        dx = self.x[:, np.newaxis] - self.x\n",
        "        dy = self.y[:, np.newaxis] - self.y\n",
        "        r = np.sqrt(dx**2 + dy**2)\n",
        "\n",
        "        # Calculate gradients and Laplacians\n",
        "        grad_k = grad_kernel(r, h)\n",
        "        lap_k = laplacian_kernel(r, h)\n",
        "\n",
        "        # Normalize directions\n",
        "        grad_kx = np.where(r > 0, grad_k * dx / r, 0)\n",
        "        grad_ky = np.where(r > 0, grad_k * dy / r, 0)\n",
        "        # print(grad_kx)\n",
        "\n",
        "        # Initialize force densities to 0\n",
        "        self.fx = np.zeros(self.N)\n",
        "        self.fy = np.zeros(self.N)\n",
        "\n",
        "        # Pressure forces\n",
        "        pressure_term = self.mass * (self.P[:, np.newaxis] / self.rho[:, np.newaxis]**2 + self.P / self.rho**2)\n",
        "        self.fx += -np.sum(pressure_term * grad_kx, axis=1)\n",
        "        self.fy += -np.sum(pressure_term * grad_ky, axis=1)\n",
        "\n",
        "        # Viscous forces, either this one or use artifical viscosity\n",
        "        lap_kx = np.where(r > 0, lap_k, 0)\n",
        "        lap_ky = np.where(r > 0, lap_k, 0)\n",
        "        viscous_term_x = self.mu / self.rho * self.mass * (self.vx[:, np.newaxis] - self.vx) / self.rho[:, np.newaxis]\n",
        "        viscous_term_y = self.mu / self.rho * self.mass * (self.vy[:, np.newaxis] - self.vy) / self.rho[:, np.newaxis]\n",
        "        self.fx += np.sum(viscous_term_x * lap_kx, axis=1)\n",
        "        self.fy += np.sum(viscous_term_y * lap_ky, axis=1)\n",
        "\n",
        "        # Add gravity (-y direction)\n",
        "        self.fy -= 9.81\n",
        "\n",
        "    # alternative viscous force contribution, use artificial viscosity or include the laplacian terms\n",
        "    # Parameters might need tuning, but currently these values of alpha = 0.1 and beta = 0 seem to be working fine for our case\n",
        "    def compute_artificial_viscosity(self, h, alpha=0.1, beta=0.0):\n",
        "        # pairwise distances and velocity differences\n",
        "        dx = self.x[:, np.newaxis] - self.x\n",
        "        dy = self.y[:, np.newaxis] - self.y\n",
        "        dvx = self.vx[:, np.newaxis] - self.vx\n",
        "        dvy = self.vy[:, np.newaxis] - self.vy\n",
        "\n",
        "        r = np.sqrt(dx**2 + dy**2)\n",
        "        vij_dot_rij = (dvx * dx + dvy * dy)\n",
        "\n",
        "        # mask for particles approaching each other\n",
        "        approaching_mask = vij_dot_rij < 0\n",
        "\n",
        "        # calculate artificial viscosity only for approaching particles\n",
        "        rho_ij = (self.rho[:, np.newaxis] + self.rho) / 2\n",
        "        c_ij = np.sqrt(K / rho_ij)\n",
        "        mu_ij = h * vij_dot_rij / (r**2 + 0.01*h**2)  # Adding a small term to avoid DIV/0! error\n",
        "\n",
        "        pi_ij = (-alpha * c_ij * mu_ij + beta * mu_ij**2) * approaching_mask / rho_ij\n",
        "\n",
        "        # Calculate force contributions\n",
        "        grad_k = grad_kernel(r, h)\n",
        "\n",
        "        # Normalize directions\n",
        "        grad_kx = np.where(r > 0, grad_k * dx / r, 0)\n",
        "        grad_ky = np.where(r > 0, grad_k * dy / r, 0)\n",
        "\n",
        "        # Viscous force contributions\n",
        "        self.fx -= np.sum(self.mass * pi_ij * grad_kx, axis=1)\n",
        "        self.fy -= np.sum(self.mass * pi_ij * grad_ky, axis=1)\n",
        "\n",
        "    # Apply boundary conditions (reflective)\n",
        "    def apply_soft_boundary(self, damping, h):\n",
        "        epsilon = 0.1 * h\n",
        "        # Left boundary\n",
        "        left_mask = self.x < 2 * h + epsilon\n",
        "        # print(left_mask.shape)\n",
        "        self.vx[left_mask] *= damping\n",
        "        # self.vy[left_mask] *= -damping\n",
        "        self.x[left_mask] = 2*h + epsilon\n",
        "        # self.rho[left_mask] = rho0 # to make sure the density of particles near boundary is rho0, testing\n",
        "\n",
        "        # Right boundary\n",
        "        right_mask = self.x > self.domain_size_x - 2 * h - epsilon\n",
        "        # print(right_mask.shape)\n",
        "        self.vx[right_mask] *= damping\n",
        "        # self.vy[right_mask] *= -damping\n",
        "        self.x[right_mask] = self.domain_size_x - 2*h  - epsilon\n",
        "        # self.rho[right_mask] = rho0\n",
        "\n",
        "        # Bottom boundary\n",
        "        bottom_mask = self.y < 2 * h + epsilon\n",
        "        self.vy[bottom_mask] *= damping\n",
        "        # self.vx[bottom_mask] *= -damping\n",
        "        self.y[bottom_mask] = 2 * h + epsilon\n",
        "        # self.rho[bottom_mask] = rho0\n",
        "\n",
        "        # Upper boundary\n",
        "        upper_mask = self.y > self.domain_size_y - 2*h - epsilon\n",
        "        self.vy[upper_mask] *= damping\n",
        "        # self.vx[upper_mask] *= -damping\n",
        "        self.y[upper_mask] = self.domain_size_y - 2*h  - epsilon\n",
        "        # self.rho[upper_mask] = rho0\n",
        "\n",
        "    # Check for maximum speed in the domain, debug\n",
        "    def check_max_speed(self):\n",
        "        max_speed = np.max(np.sqrt(self.vx**2 + self.vy**2))\n",
        "        if max_speed > np.sqrt(2 * 9.81 * 1):\n",
        "            print(f\"Max speed is {max_speed}\")\n",
        "\n",
        "    # Energy Conservation check, check if total Kinetic and Potential energy of all particles is conserved in the domain\n",
        "    def total_energy(self):\n",
        "        KE = 0.5 * np.sum(self.mass * (self.vx**2 + self.vy**2))  # 1/2 mv^2\n",
        "        PE = np.sum(self.mass * 9.81 * self.y)  # mgy, assuming gravity acts in the y-direction\n",
        "        return KE + PE"
      ],
      "metadata": {
        "id": "D6J-o8lrLEly"
      },
      "execution_count": 70,
      "outputs": []
    },
    {
      "cell_type": "markdown",
      "source": [
        "**Boundary** \\\\\n",
        "The boundary particles specified here are only for visualization and these classes and functions are remnants of an earlier attempt to include them in the simulation, but could not afford the computational burden of the additional particles. Currently, the code is still at $O(N^2)$ complexity, so unless some kind of neighbor list is implemented, inclusion of boundary particles would be very computationally inefficient and SLOW."
      ],
      "metadata": {
        "id": "gS7yZGl7xYlf"
      }
    },
    {
      "cell_type": "code",
      "source": [
        "\n",
        "\"\"\"Boundary particles for visualization only\"\"\"\n",
        "\n",
        "# Define a boundary particle class, used for visualizing boundary only\n",
        "\"\"\"Note that only positions are defined for boundary particles as we dont use anything else\"\"\"\n",
        "class BoundaryParticle:\n",
        "    def __init__(self,x,y, mass):\n",
        "        self.x = x\n",
        "        self.y = y\n",
        "        self.vx = 0  # Velocities\n",
        "        self.vy = 0\n",
        "        self.rho = 1000.0  # Density of water\n",
        "        self.mu = 1  # Viscosity, might not be used\n",
        "        self.P = 0  # Pressures\n",
        "        self.fx = 0.0  # Forces/acclns\n",
        "        self.fy =  0.0 # mass * -9.81 # gravity force in y-direction\n",
        "        self.mass = mass # Particle mass\n",
        "\n",
        "def initialize_boundary_particles(n_boundary_x, n_boundary_y, domain_size_x, domain_size_y, spacing, mass):\n",
        "    boundary_particles = []\n",
        "    thickness = 2\n",
        "    # bottom and top boundaries\n",
        "    for i in range(n_boundary_x):\n",
        "      for j in range(thickness):\n",
        "        # bottom boundary\n",
        "        x = i * spacing\n",
        "        y = j * spacing\n",
        "        boundary_particles.append(BoundaryParticle(x,y, mass))\n",
        "        # top boundary\n",
        "        y = domain_size_y - j * spacing\n",
        "        boundary_particles.append(BoundaryParticle(x,y, mass))\n",
        "    # left and right boundaries\n",
        "    for i in range(1,n_boundary_y - 1): # exclude the corners counted above\n",
        "      for j in range(thickness):\n",
        "        # left boundary\n",
        "        x = j * spacing\n",
        "        y = i * spacing\n",
        "        boundary_particles.append(BoundaryParticle(x,y, mass))\n",
        "        # right boundary\n",
        "        x = domain_size_x - j * spacing\n",
        "        boundary_particles.append(BoundaryParticle(x,y, mass))\n",
        "    return boundary_particles\n"
      ],
      "metadata": {
        "id": "Q8-Oe2oMLAIJ"
      },
      "execution_count": 71,
      "outputs": []
    },
    {
      "cell_type": "markdown",
      "source": [
        "**2D Dam break Simulation Setup** \\\\\n",
        "We specify all the necessary parameters here for setting up the fluid domain, material properties like density $\\rho$, bulk modulus $K$, damping against wall, etc. Similarly, we also specify the particle size based on spacing, kernel smoothing length $h$, simulation time step $dt$. \\\\\n",
        "\n",
        "We set the size of the water column in the dam. Note that higher dam height (controlled by $n^{particles}_y$) will increase the stiffness/bulk modulus and restrict the time step further leading to instability. It would be nice to include a variable time-stepping algorithm based on a simple CFL condition to try to control the instability, although this would not entirely solve the problem. \\\\\n",
        "Also, we keep the mass of each particle fixed throughout the simulation, which means mass is conserved globally but local conservation is based on the density evaluation at each point and might not be conserved locally."
      ],
      "metadata": {
        "id": "EROX-HK3sUgG"
      }
    },
    {
      "cell_type": "markdown",
      "source": [
        "It should also be mentioned that the bulk modulus is calculated based on the maximum fluid velocity in the domain to ensure incompressibility when using the state equations for pressure calculations. \\\\\n",
        "\n",
        "$$K = \\frac{\\rho_0 c_0^2}{\\gamma}$$\n",
        "where $\\rho_0$ is the reference density, $c_0$ is the speed of sound in water which is not directly specified and instead based on the water column height for relaxing the time step criterion $\\Delta t$. Also, $\\gamma = 7$ for water is used.\n",
        "$$c_0 = \\beta \\sqrt{2gH}$$\n",
        "where $\\beta$ is a factor usually taken as 10, and $H$ is the water column height. We take $\\beta=3$ for relaxing the time step constraint a little bit for use in Colab."
      ],
      "metadata": {
        "id": "ZfhJ3kjqNvk5"
      }
    },
    {
      "cell_type": "code",
      "source": [
        "# Simulation Setup and Parameters\n",
        "n_particles_x, n_particles_y = 15 , 10  # Number of particles in x and y directions\n",
        "spacing = 0.02   # Particle spacing\n",
        "h = 1.2 * spacing  # Smoothing length\n",
        "# find the numerically \"good\" value for K\n",
        "c0 = 3.0 * np.sqrt(n_particles_y * spacing * 9.81 * 2)  # \"Speed\" of sound\n",
        "rho0 = 1000.0  # Reference density\n",
        "K = (rho0*c0**2) /7  # Bulk modulus\n",
        "\n",
        "mass = rho0 * spacing**2  # In 2D, we assume mass to be rho * h^2\n",
        "damping = -1.0  # for soft boundary reflection,  -1.0 for perfect reflection, 0.0 for no reflection\n",
        "dt0 = 0.0005  # Time step, use 1e-5 or smaller if you increase the water column height\n",
        "dt = dt0  # In case I add the variable time stepping routine, not implemented yet\n",
        "CFL = 0.4 # Not implemented yet\n",
        "n_steps = 1000  # Number of simulation steps\n",
        "Domain_X = 0.8\n",
        "Domain_Y = 0.5\n",
        "n_boundary_x = int(Domain_X/spacing) + 1\n",
        "n_boundary_y = int(Domain_Y/spacing) + 1\n",
        "\n",
        "# Initialize SPH domain for fluid particles\n",
        "domain = SPHFluidDomain(n_particles_x * n_particles_y, mass, Domain_X, Domain_Y)\n",
        "domain.initialize_positions(n_particles_x, n_particles_y, spacing)\n",
        "# Initialize the boundary particles\n",
        "boundary_particles = initialize_boundary_particles(n_boundary_x, n_boundary_y, Domain_X, Domain_Y, spacing, mass)"
      ],
      "metadata": {
        "id": "S9MkvfrKKJgd"
      },
      "execution_count": 72,
      "outputs": []
    },
    {
      "cell_type": "code",
      "source": [
        "print(\"------------------------------\")\n",
        "print(\"### Simulation Parameters ###\")\n",
        "print(\"------------------------------\")\n",
        "print(\"Time Step = \", dt, \" seconds\")\n",
        "print(\"Damping factor for wall collision = \", damping)\n",
        "print(\"Width of water column = \", n_particles_x * spacing, \"m.\")\n",
        "print(\"Height of water column = \", n_particles_y * spacing, \"m.\")\n",
        "print(\"Smoothing Length for kernel function = \", h, \"m.\")\n",
        "print(\"Stiffness or Bulk Modulus = \", K, \"Pa\")\n",
        "print(\"Mass of each fluid particle = \", mass, \"kg.\")\n",
        "print(\"Density of water = \", rho0, r'kg/m^3')\n",
        "print(\"Viscosity of water = \", 1e-3, \"Pa.s\")\n",
        "print(\"------------------------------\")\n",
        "print(\"The simulation will run for \", n_steps, \"steps for a final physical time of \", n_steps*dt, \" seconds.\")"
      ],
      "metadata": {
        "colab": {
          "base_uri": "https://localhost:8080/"
        },
        "id": "v4DmQzbIwMRn",
        "outputId": "72ba7d2e-64c3-480f-f11e-c0efeb56fc46"
      },
      "execution_count": 73,
      "outputs": [
        {
          "output_type": "stream",
          "name": "stdout",
          "text": [
            "------------------------------\n",
            "### Simulation Parameters ###\n",
            "------------------------------\n",
            "Time Step =  0.0005  seconds\n",
            "Damping factor for wall collision =  -1.0\n",
            "Width of water column =  0.3 m.\n",
            "Height of water column =  0.2 m.\n",
            "Smoothing Length for kernel function =  0.024 m.\n",
            "Stiffness or Bulk Modulus =  5045.142857142858 Pa\n",
            "Mass of each fluid particle =  0.4 kg.\n",
            "Density of water =  1000.0 kg/m^3\n",
            "Viscosity of water =  0.001 Pa.s\n",
            "------------------------------\n",
            "The simulation will run for  1000 steps for a final physical time of  0.5  seconds.\n"
          ]
        }
      ]
    },
    {
      "cell_type": "markdown",
      "source": [
        "**Setup for plotting and visualization**"
      ],
      "metadata": {
        "id": "oP8qktQXIR_b"
      }
    },
    {
      "cell_type": "code",
      "source": [
        "# Visualization setup\n",
        "fig, ax = plt.subplots(figsize=(5, 5))\n",
        "ax.set_xlim(0, Domain_X)\n",
        "ax.set_ylim(0, Domain_Y)\n",
        "ax.set_aspect('equal')\n",
        "scat_fluid = ax.scatter(domain.x, domain.y, edgecolors='black', linewidths=0.5, s=10)\n",
        "scat_boundary = ax.scatter([],[], color='red')\n",
        "scat_boundary.set_edgecolors('black')\n",
        "scat_boundary.set_linewidths(0.5)\n",
        "scat_boundary.set_sizes([10] * len(boundary_particles))\n",
        "plt.xlabel('x')\n",
        "plt.ylabel('y')\n",
        "scat_boundary.set_offsets([[p.x, p.y] for p in boundary_particles])\n",
        "\n",
        "def update(frame):\n",
        "    domain.compute_density_and_pressure(h, K, rho0)\n",
        "    domain.compute_force_density(h)\n",
        "    domain.compute_artificial_viscosity(h)\n",
        "    domain.update_rk4(h, dt)\n",
        "    domain.apply_soft_boundary(damping, spacing)\n",
        "    # Append energy at this state\n",
        "    Energy.append(domain.total_energy())\n",
        "    # Update plots\n",
        "    scat_fluid.set_offsets(np.column_stack((domain.x, domain.y)))\n",
        "    scat_boundary.set_offsets([[p.x, p.y] for p in boundary_particles])\n",
        "    if(frame%100 ==0 or frame == 1):\n",
        "      plt.savefig(f'./plot_{frame}.png')\n",
        "\n",
        "Energy = [domain.total_energy()]\n",
        "\n",
        "# # Create the animation\n",
        "ani = FuncAnimation(fig, update, frames=tqdm(range(1,n_steps+1), desc='time step', position=1, leave=True), interval=1000)\n",
        "# plt.close()\n",
        "plt.show()\n",
        "# HTML(ani.to_jshtml())"
      ],
      "metadata": {
        "id": "chkmeQFGKF9Z",
        "colab": {
          "base_uri": "https://localhost:8080/",
          "height": 359,
          "referenced_widgets": [
            "dcd11b977924471fa071fdfdc4a466ef",
            "dc1ce387cf4847b0b2170c27542a5bc6",
            "e313d076714244f88e8d77bd2b6272aa",
            "18fa89c7cbe24daa92c3217b335f36f0",
            "2de82dfd32384614bc241bec6c0833a0",
            "7a9ee69c440f49a39943d9f4171b3100",
            "7a7f8cb49ceb48a49b7bc50a69df612c",
            "565284ad89254c1db13d64311b752310",
            "21068c4158fc493f86547a77c9e39793",
            "8841703b30e3471683943dba01290848",
            "a86b80f966f6405abcd54e3a8ed06c7f"
          ]
        },
        "outputId": "3e82bf7b-5df8-4d7c-b8af-c2cf932a0d2b"
      },
      "execution_count": 74,
      "outputs": [
        {
          "output_type": "display_data",
          "data": {
            "text/plain": [
              "time step:   0%|          | 0/1000 [00:00<?, ?it/s]"
            ],
            "application/vnd.jupyter.widget-view+json": {
              "version_major": 2,
              "version_minor": 0,
              "model_id": "dcd11b977924471fa071fdfdc4a466ef"
            }
          },
          "metadata": {}
        },
        {
          "output_type": "display_data",
          "data": {
            "text/plain": [
              "<Figure size 500x500 with 1 Axes>"
            ],
            "image/png": "[encoded data removed]"
          },
          "metadata": {}
        }
      ]
    },
    {
      "cell_type": "code",
      "source": [
        "# # Time stepping\n",
        "# for i in trange(n_steps+1, desc='time step', position=0, leave=True):\n",
        "#     print(\"Time step: \", i, end=\"\\r \")\n",
        "#     update(i)\n",
        "#     # if(ii%100 == 0):\n",
        "#     #   scat_fluid.set_offsets(np.column_stack((domain.x, domain.y)))\n",
        "#     #   scat_boundary.set_offsets([[p.x, p.y] for p in boundary_particles])\n",
        "#     #   domain.check_max_speed()\n",
        "#     #   # plot to png\n",
        "#     #   plt.savefig(f'./plot_{ii}.png')\n"
      ],
      "metadata": {
        "id": "vXey8ck8JvcO"
      },
      "execution_count": 75,
      "outputs": []
    },
    {
      "cell_type": "markdown",
      "source": [
        "Uncomment the following cell to write to a mp4 file, also need to uncomment the update_visualization part in the update() routine and the animation creation part as well in the earlier cell"
      ],
      "metadata": {
        "id": "8h6TAqBgIh4u"
      }
    },
    {
      "cell_type": "code",
      "source": [
        "# Save the animation\n",
        "writer = FFMpegWriter(fps=120, metadata=dict(artist='Me'), bitrate=5000)\n",
        "ani.save('sph_simulation.mp4', writer=writer)\n",
        "plt.show()"
      ],
      "metadata": {
        "id": "4l9VJFM-JiwJ",
        "colab": {
          "base_uri": "https://localhost:8080/",
          "height": 173
        },
        "outputId": "f7944f20-badc-4bff-a570-5f8ca4cd33bc"
      },
      "execution_count": 76,
      "outputs": [
        {
          "output_type": "stream",
          "name": "stderr",
          "text": [
            "<ipython-input-70-46fcbe1cceb0>:150: RuntimeWarning: invalid value encountered in divide\n",
            "  grad_kx = np.where(r > 0, grad_k * dx / r, 0)\n",
            "<ipython-input-70-46fcbe1cceb0>:151: RuntimeWarning: invalid value encountered in divide\n",
            "  grad_ky = np.where(r > 0, grad_k * dy / r, 0)\n",
            "<ipython-input-70-46fcbe1cceb0>:200: RuntimeWarning: invalid value encountered in divide\n",
            "  grad_kx = np.where(r > 0, grad_k * dx / r, 0)\n",
            "<ipython-input-70-46fcbe1cceb0>:201: RuntimeWarning: invalid value encountered in divide\n",
            "  grad_ky = np.where(r > 0, grad_k * dy / r, 0)\n"
          ]
        },
        {
          "output_type": "display_data",
          "data": {
            "text/plain": [
              "<Figure size 640x480 with 0 Axes>"
            ]
          },
          "metadata": {}
        }
      ]
    },
    {
      "cell_type": "markdown",
      "source": [
        "The div/0 error seen above is because of the diagonal terms of grad_k which calculate the distance of a particle with itself. Did not correct this, but does not affect the simulation as those values are not used."
      ],
      "metadata": {
        "id": "TnNEqzUmvIcj"
      }
    },
    {
      "cell_type": "markdown",
      "source": [
        "We try to plot the total energy of the system through time, and some instability issues around the end grow large enough because of our explicit scheme usage as well. I believe with proper stability control, energy conservation can also be verified for the model. Moreover, too few particles are used to simulate a continuous medium which is unrealistic. Also, as stated earlier, volume oscillations are very high when using the state equation SPH for pressure estimation."
      ],
      "metadata": {
        "id": "8b4TREG04DSc"
      }
    },
    {
      "cell_type": "code",
      "source": [
        "\n",
        "# Plot the energy with time\n",
        "plt.figure()\n",
        "plt.plot(Energy[:-100])\n",
        "# plt.ylim([40,60])\n",
        "plt.xlabel('Time Step')\n",
        "plt.ylabel('Total Energy')\n",
        "plt.title('Total Energy over Time')\n",
        "plt.savefig(\"energy.png\")"
      ],
      "metadata": {
        "id": "_H2-9N4iJeFm",
        "colab": {
          "base_uri": "https://localhost:8080/",
          "height": 472
        },
        "outputId": "dc37a529-18bc-4947-8956-b7bf5ab49075"
      },
      "execution_count": 78,
      "outputs": [
        {
          "output_type": "display_data",
          "data": {
            "text/plain": [
              "<Figure size 640x480 with 1 Axes>"
            ],
            "image/png": "[encoded data removed]"
          },
          "metadata": {}
        }
      ]
    },
    {
      "cell_type": "markdown",
      "source": [
        "**References**\n",
        "\n",
        "1.   Gingold, Robert A., and Joseph J. Monaghan. \"Smoothed particle hydrodynamics: theory and application to non-spherical stars.\" Monthly notices of the royal astronomical society 181.3 (1977): 375-389\n",
        "2.   Prabhu Ramachandran, Aditya Bhosale, Kunal Puri, Pawan Negi, Abhinav Muta, A. Dinesh, Dileep Menon, Rahul Govind, Suraj Sanka, Amal S. Sebastian, Ananyo Sen, Rohan Kaushik, Anshuman Kumar, Vikas Kurapati, Mrinalgouda Patil, Deep Tavker, Pankaj Pandey, Chandrashekhar Kaushik, Arkopal Dutt, and Arpit Agarwal. 2021. PySPH: A Python-based Framework for Smoothed Particle Hydrodynamics. ACM Trans. Math. Softw. 47, 4, Article 34 (December 2021), 38 pages. https://doi.org/10.1145/3460773\n",
        "3.   Koschier, Dan, et al. \"Smoothed particle hydrodynamics techniques for the physics based simulation of fluids and solids.\" arXiv preprint arXiv:2009.06944 (2020)\n",
        "4.   Tutorial from https://sph-tutorial.physics-simulation.org/\n",
        "5.   Egor Larionov. \"SPH for Weakly Compressible Fluids\"\n",
        "6.   Monaghan, Joe J. \"Simulating free surface flows with SPH.\" Journal of computational physics 110.2 (1994): 399-406. https://doi.org/10.1006/jcph.1994.1034\n",
        "7.   Price, D. J. (2010). Smoothed Particle Hydrodynamics and Magnetohydrodynamics. ArXiv. https://doi.org/10.1016/j.jcp.2010.12.011\n",
        "8.   SPH Example https://github.com/AhmedSalih3d/SPHExample\n",
        "\n",
        "\n",
        "\n"
      ],
      "metadata": {
        "id": "df6KRqEnaicm"
      }
    },
    {
      "cell_type": "markdown",
      "source": [
        "**Future Works**\n",
        "\n",
        "\n",
        "1.   Code complexity reduction from $O(N^2)$ to $O(N)$ using some sort of neighbor storing algorithm\n",
        "2.   Parallelization\n",
        "2.   Implement Pressure Poisson Equation solver to calculate realistic pressure values over the domain that agree with the continuity equation, i.e. the divergence of velocity is minimized (PPESPH)\n",
        "1.   Kernel and its gradient Corrections are applied in a lot of SPH works, which have not been dealt with here\n",
        "2.   Implementation of near pressure and near densities for all particles which are activated only when the particles are close to the boundary, so that the density deviations near the boundary are minimized as much as possible, improving the realism of the simulations\n",
        "2.   We can also add penalty force boundaries or even incorporate boundary particles (particle-based boundary handling) altogether when code complexity decreases\n",
        "1.   Inclusion of surface tension forces\n",
        "2.   Inclusion of CFL condition for adaptive time-stepping\n",
        "\n",
        "\n",
        "\n",
        "\n"
      ],
      "metadata": {
        "id": "scco7HNlrMiU"
      }
    }
  ]
}